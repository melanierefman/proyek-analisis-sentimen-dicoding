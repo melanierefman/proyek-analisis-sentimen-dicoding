{
  "nbformat": 4,
  "nbformat_minor": 0,
  "metadata": {
    "colab": {
      "provenance": []
    },
    "kernelspec": {
      "name": "python3",
      "display_name": "Python 3"
    },
    "language_info": {
      "name": "python"
    }
  },
  "cells": [
    {
      "cell_type": "markdown",
      "source": [
        "#Import Library"
      ],
      "metadata": {
        "id": "utPY9yefl1Qu"
      }
    },
    {
      "cell_type": "code",
      "source": [
        "# Import libraries\n",
        "import pandas as pd\n",
        "import numpy as np\n",
        "import matplotlib.pyplot as plt\n",
        "import seaborn as sns\n",
        "from sklearn.model_selection import train_test_split, GridSearchCV\n",
        "from sklearn.feature_extraction.text import TfidfVectorizer\n",
        "from sklearn.metrics import accuracy_score\n",
        "from sklearn.preprocessing import LabelEncoder, StandardScaler\n",
        "from sklearn.svm import SVC\n",
        "from sklearn.ensemble import RandomForestClassifier\n",
        "from tensorflow.keras.models import Sequential\n",
        "from tensorflow.keras.layers import Embedding, LSTM, Dense, Dropout\n",
        "from tensorflow.keras.preprocessing.text import Tokenizer\n",
        "from tensorflow.keras.preprocessing.sequence import pad_sequences\n",
        "from tensorflow.keras.callbacks import EarlyStopping, ReduceLROnPlateau\n",
        "from gensim.models import Word2Vec\n",
        "import re\n",
        "import string"
      ],
      "metadata": {
        "id": "PBajQ_yelqCK"
      },
      "execution_count": null,
      "outputs": []
    },
    {
      "cell_type": "markdown",
      "source": [
        "#Memuat Dataset"
      ],
      "metadata": {
        "id": "yRKFxMh5l3ro"
      }
    },
    {
      "cell_type": "code",
      "source": [
        "# Memuat dataset\n",
        "df = pd.read_csv('shopee_reviews_filtered.csv')\n",
        "\n",
        "# Menampilkan informasi dasar dataset\n",
        "print(\"Jumlah baris dan kolom:\")\n",
        "print(df.shape)\n",
        "\n",
        "# Menampilkan tipe data dari setiap kolom\n",
        "print(\"\\nInformasi kolom:\")\n",
        "print(df.info())\n",
        "\n",
        "# Menampilkan 5 baris pertama dataset\n",
        "print(\"\\n5 baris pertama dataset:\")\n",
        "print(df.head())"
      ],
      "metadata": {
        "colab": {
          "base_uri": "https://localhost:8080/"
        },
        "id": "bS_E7eCRnCHc",
        "outputId": "9aadf1c7-12ce-4619-b440-a29ad411d165"
      },
      "execution_count": null,
      "outputs": [
        {
          "output_type": "stream",
          "name": "stdout",
          "text": [
            "Jumlah baris dan kolom:\n",
            "(4355, 3)\n",
            "\n",
            "Informasi kolom:\n",
            "<class 'pandas.core.frame.DataFrame'>\n",
            "RangeIndex: 4355 entries, 0 to 4354\n",
            "Data columns (total 3 columns):\n",
            " #   Column    Non-Null Count  Dtype \n",
            "---  ------    --------------  ----- \n",
            " 0   username  4340 non-null   object\n",
            " 1   rating    4355 non-null   int64 \n",
            " 2   comment   4355 non-null   object\n",
            "dtypes: int64(1), object(2)\n",
            "memory usage: 102.2+ KB\n",
            "None\n",
            "\n",
            "5 baris pertama dataset:\n",
            "          username  rating                                            comment\n",
            "0  muhammadjuandra       5  Tampilan:ok banget cantik banget\\nKualitas:ok ...\n",
            "1   alvaro.maulana       5  Tampilan:Keren\\nKualitas:bagus banget\\nPerform...\n",
            "2    nurhayati2607       5  Tampilan:Tampilan Bagus sekali, tidak tipis\\nK...\n",
            "3          i*****4       5  Kualitas:Bagus\\nPerforma:Bagus\\nTampilan:Bagus...\n",
            "4     ziesuno70411       5  Tampilan:bagua sesuai foto\\nPerforma:belum dip...\n"
          ]
        }
      ]
    },
    {
      "cell_type": "code",
      "source": [
        "# Cek nilai yang hilang\n",
        "print(\"\\nJumlah nilai yang hilang per kolom:\")\n",
        "print(df.isnull().sum())"
      ],
      "metadata": {
        "colab": {
          "base_uri": "https://localhost:8080/"
        },
        "id": "7isib47unKN1",
        "outputId": "aced73fe-aa6c-447b-e1a5-e4609d7537b7"
      },
      "execution_count": null,
      "outputs": [
        {
          "output_type": "stream",
          "name": "stdout",
          "text": [
            "\n",
            "Jumlah nilai yang hilang per kolom:\n",
            "username    15\n",
            "rating       0\n",
            "comment      0\n",
            "dtype: int64\n"
          ]
        }
      ]
    },
    {
      "cell_type": "code",
      "source": [
        "# Cek distribusi rating\n",
        "print(\"\\nDistribusi rating:\")\n",
        "print(df['rating'].value_counts())"
      ],
      "metadata": {
        "colab": {
          "base_uri": "https://localhost:8080/"
        },
        "id": "NKHKfOATnLH3",
        "outputId": "85101d19-3db6-4a11-f5e5-2449a8680a7a"
      },
      "execution_count": null,
      "outputs": [
        {
          "output_type": "stream",
          "name": "stdout",
          "text": [
            "\n",
            "Distribusi rating:\n",
            "rating\n",
            "5    2128\n",
            "3     814\n",
            "4     521\n",
            "1     504\n",
            "2     388\n",
            "Name: count, dtype: int64\n"
          ]
        }
      ]
    },
    {
      "cell_type": "markdown",
      "source": [
        "#Data Preprocessing"
      ],
      "metadata": {
        "id": "GyQTgt0Rl7pn"
      }
    },
    {
      "cell_type": "markdown",
      "source": [
        "####Cek Data Missing"
      ],
      "metadata": {
        "id": "fvdG6DpDl-4Y"
      }
    },
    {
      "cell_type": "code",
      "source": [
        "# Menangani data yang hilang pada kolom 'username'\n",
        "df_cleaned = df.dropna(subset=['username'])\n",
        "print(df_cleaned.isnull().sum())"
      ],
      "metadata": {
        "colab": {
          "base_uri": "https://localhost:8080/"
        },
        "id": "kRJAITQ_HXFt",
        "outputId": "3c0e0eea-c4fe-439f-b577-5e5b1227541c"
      },
      "execution_count": null,
      "outputs": [
        {
          "output_type": "stream",
          "name": "stdout",
          "text": [
            "username    0\n",
            "rating      0\n",
            "comment     0\n",
            "dtype: int64\n"
          ]
        }
      ]
    },
    {
      "cell_type": "markdown",
      "source": [
        "####Text Cleaning"
      ],
      "metadata": {
        "id": "9xlRPvI7mCYF"
      }
    },
    {
      "cell_type": "code",
      "source": [
        "# Fungsi untuk membersihkan teks\n",
        "def clean_text(text):\n",
        "    text = text.lower()\n",
        "    text = re.sub(r'\\d+', '', text)\n",
        "    text = text.translate(str.maketrans('', '', string.punctuation))\n",
        "    return text\n",
        "\n",
        "df['cleaned_comment'] = df['comment'].apply(clean_text)"
      ],
      "metadata": {
        "id": "Y3X0TF4UluqC"
      },
      "execution_count": null,
      "outputs": []
    },
    {
      "cell_type": "markdown",
      "source": [
        "####Labeling Sentimen"
      ],
      "metadata": {
        "id": "VU0ar8HbmFAT"
      }
    },
    {
      "cell_type": "code",
      "source": [
        "# Membuat label berdasarkan rating\n",
        "df['label'] = df['rating'].apply(lambda x: 'positif' if x >= 4 else 'negatif')\n",
        "\n",
        "# Menyeimbangkan dataset\n",
        "sample_size = 1700\n",
        "positif_df = df[df['label'] == 'positif'].sample(n=sample_size, random_state=42)\n",
        "negatif_df = df[df['label'] == 'negatif'].sample(n=sample_size, random_state=42)\n",
        "\n",
        "# Gabungkan kembali dataset yang seimbang\n",
        "df_balanced = pd.concat([positif_df, negatif_df])\n",
        "\n",
        "# Menampilkan beberapa data teratas untuk verifikasi\n",
        "print(df_balanced.head())"
      ],
      "metadata": {
        "colab": {
          "base_uri": "https://localhost:8080/"
        },
        "id": "UBAfknJMlv_q",
        "outputId": "82b6c264-7485-467f-aeab-1bbd94b6931a"
      },
      "execution_count": null,
      "outputs": [
        {
          "output_type": "stream",
          "name": "stdout",
          "text": [
            "                username  rating  \\\n",
            "1840  15.putri.mambrasar       4   \n",
            "1237      nurmila_pamkas       5   \n",
            "865              a*****i       5   \n",
            "1622        cicinovita64       4   \n",
            "1076    lasmifebrianti02       5   \n",
            "\n",
            "                                                comment    label  \n",
            "1840  Sdh lengkap bagus Tpi ngak ngerti sutilnya knp...  positif  \n",
            "1237  Kualitas:bagus\\n\\nAlhamdulillah barang nyampe ...  positif  \n",
            "865   Desain:bagus\\nUkuran:pas untuk masak bertiga\\n...  positif  \n",
            "1622  Tampilan:ok\\nKualitas:ya seperti panci masak\\n...  positif  \n",
            "1076  Desain:bagus\\nUkuran:sesuai\\nWarna:bagus\\n\\nTe...  positif  \n"
          ]
        }
      ]
    },
    {
      "cell_type": "markdown",
      "source": [
        "#Data Preparation"
      ],
      "metadata": {
        "id": "QvutK5npmHyv"
      }
    },
    {
      "cell_type": "code",
      "source": [
        "# Memisahkan fitur dan label\n",
        "X = df['cleaned_comment'].values\n",
        "y = df['label'].values\n",
        "\n",
        "# Encode label (positif, negatif) ke dalam bentuk numerik\n",
        "le = LabelEncoder()\n",
        "y = le.fit_transform(y)\n",
        "y = to_categorical(y, num_classes=2)\n",
        "\n",
        "# Pembagian data menjadi training dan testing set\n",
        "X_train, X_test, y_train, y_test = train_test_split(X, y, test_size=0.2, random_state=42)"
      ],
      "metadata": {
        "id": "m5cvSauElxX6"
      },
      "execution_count": null,
      "outputs": []
    },
    {
      "cell_type": "markdown",
      "source": [
        "#Eksperimen dengan 3 Skema Pelatihan"
      ],
      "metadata": {
        "id": "fY38RKkgmKsI"
      }
    },
    {
      "cell_type": "markdown",
      "source": [
        "####Skema 1: SVM dengan TF-IDF(80/20 split)"
      ],
      "metadata": {
        "id": "ZUhzgZwmmOVt"
      }
    },
    {
      "cell_type": "code",
      "source": [
        "# Vektorisasi data dengan TF-IDF\n",
        "vectorizer = TfidfVectorizer()\n",
        "X_tfidf = vectorizer.fit_transform(X)\n",
        "\n",
        "# Split data menjadi training dan testing\n",
        "X_train, X_test, y_train, y_test = train_test_split(X_tfidf, y, test_size=0.2, random_state=42)\n",
        "\n",
        "# Grid Search untuk optimasi parameter SVM\n",
        "param_grid = {'C': [0.1, 1, 10], 'gamma': [0.001, 0.01, 0.1, 1]}\n",
        "svm_model = SVC(kernel='linear')\n",
        "\n",
        "grid_search = GridSearchCV(svm_model, param_grid, cv=5, scoring='accuracy')\n",
        "grid_search.fit(X_train, y_train.argmax(axis=1))\n",
        "\n",
        "# Menampilkan hasil terbaik\n",
        "print(f\"Best SVM Parameters: {grid_search.best_params_}\")\n",
        "svm_accuracy = grid_search.score(X_test, y_test.argmax(axis=1))\n",
        "print(f\"Optimized SVM Accuracy: {svm_accuracy * 100:.2f}%\")"
      ],
      "metadata": {
        "colab": {
          "base_uri": "https://localhost:8080/"
        },
        "id": "oBfDIhqrlywL",
        "outputId": "1bb24df0-c303-4191-914e-c3b688bf194a"
      },
      "execution_count": null,
      "outputs": [
        {
          "output_type": "stream",
          "name": "stdout",
          "text": [
            "Best SVM Parameters: {'C': 1, 'gamma': 0.001}\n",
            "Optimized SVM Accuracy: 90.70%\n"
          ]
        }
      ]
    },
    {
      "cell_type": "markdown",
      "source": [
        "####Skema 2: Random Forest dengan Word2Vec (80/20 split)"
      ],
      "metadata": {
        "id": "ZHeSAxaPmTcL"
      }
    },
    {
      "cell_type": "code",
      "source": [
        "# Tokenisasi teks\n",
        "X_tokenized = [text.split() for text in X]\n",
        "\n",
        "# Latih model Word2Vec\n",
        "w2v_model = Word2Vec(sentences=X_tokenized, vector_size=100, window=5, min_count=1, workers=4)\n",
        "\n",
        "# Fungsi untuk menghitung rata-rata vektor Word2Vec untuk satu dokumen\n",
        "def vectorize_text(text_tokens, model, vector_size):\n",
        "    vectors = [model.wv[token] for token in text_tokens if token in model.wv]\n",
        "    if len(vectors) > 0:\n",
        "        return np.mean(vectors, axis=0)\n",
        "    else:\n",
        "        return np.zeros(vector_size)\n",
        "\n",
        "# Transformasi data menjadi representasi Word2Vec\n",
        "X_w2v = np.array([vectorize_text(tokens, w2v_model, 100) for tokens in X_tokenized])\n",
        "\n",
        "# Split data menjadi training dan testing\n",
        "X_train_w2v, X_test_w2v, y_train, y_test = train_test_split(X_w2v, y, test_size=0.2, random_state=42)\n",
        "\n",
        "# Hyperparameter tuning untuk Random Forest\n",
        "param_grid = {'n_estimators': [100, 200], 'max_depth': [10, 20, 30], 'min_samples_split': [2, 5]}\n",
        "rf_model = RandomForestClassifier()\n",
        "\n",
        "grid_search_rf = GridSearchCV(rf_model, param_grid, cv=5, scoring='accuracy')\n",
        "grid_search_rf.fit(X_train_w2v, y_train.argmax(axis=1))\n",
        "\n",
        "# Evaluasi hasil\n",
        "print(f\"Best Random Forest Parameters: {grid_search_rf.best_params_}\")\n",
        "rf_accuracy = grid_search_rf.score(X_test_w2v, y_test.argmax(axis=1))\n",
        "print(f\"Optimized RF Accuracy: {rf_accuracy * 100:.2f}%\")"
      ],
      "metadata": {
        "colab": {
          "base_uri": "https://localhost:8080/"
        },
        "id": "beGGzDUpmYr-",
        "outputId": "6a6b3452-6433-4757-fc36-cecc73a57b98"
      },
      "execution_count": null,
      "outputs": [
        {
          "output_type": "stream",
          "name": "stdout",
          "text": [
            "Best Random Forest Parameters: {'max_depth': 10, 'min_samples_split': 5, 'n_estimators': 200}\n",
            "Optimized RF Accuracy: 82.78%\n"
          ]
        }
      ]
    },
    {
      "cell_type": "markdown",
      "source": [
        "####Skema 3: Deep Learning LSTM (70/30 split)"
      ],
      "metadata": {
        "id": "UdMSidPNmaaT"
      }
    },
    {
      "cell_type": "code",
      "source": [
        "# Parameter\n",
        "max_words = 10000\n",
        "max_len = 100\n",
        "\n",
        "# Tokenisasi teks\n",
        "tokenizer = Tokenizer(num_words=max_words)\n",
        "tokenizer.fit_on_texts(df['cleaned_comment'])\n",
        "\n",
        "X_seq = tokenizer.texts_to_sequences(df['cleaned_comment'])\n",
        "X_pad = pad_sequences(X_seq, maxlen=max_len)\n",
        "\n",
        "# Gunakan label asli (positif/negatif)\n",
        "X_train, X_test, y_train, y_test = train_test_split(X_pad, df['label'], test_size=0.3, random_state=42)\n",
        "\n",
        "# Konversi label ke format numerik (0 dan 1) hanya untuk pelatihan\n",
        "y_train_bin = (y_train == 'positif').astype(int)\n",
        "y_test_bin = (y_test == 'positif').astype(int)"
      ],
      "metadata": {
        "id": "xYpCES0YXGeR"
      },
      "execution_count": null,
      "outputs": []
    },
    {
      "cell_type": "code",
      "source": [
        "from tensorflow.keras.callbacks import EarlyStopping, ReduceLROnPlateau\n",
        "\n",
        "# Bangun model LSTM dengan regularisasi\n",
        "model = Sequential([\n",
        "    Embedding(input_dim=max_words, output_dim=64, input_length=max_len),\n",
        "    LSTM(64, return_sequences=True, kernel_regularizer='l2'),\n",
        "    Dropout(0.4),\n",
        "    LSTM(32, kernel_regularizer='l2'),\n",
        "    Dropout(0.4),\n",
        "    Dense(1, activation='sigmoid', kernel_regularizer='l2')\n",
        "])\n",
        "\n",
        "# Kompilasi model\n",
        "model.compile(optimizer='adam', loss='binary_crossentropy', metrics=['accuracy'])\n",
        "\n",
        "# Callback untuk Early Stopping dan Learning Rate Scheduler\n",
        "early_stopping = EarlyStopping(monitor='val_loss', patience=3, restore_best_weights=True)\n",
        "lr_scheduler = ReduceLROnPlateau(monitor='val_loss', factor=0.5, patience=2)\n",
        "\n",
        "# Pelatihan model\n",
        "history = model.fit(\n",
        "    X_train, y_train_bin,\n",
        "    validation_data=(X_test, y_test_bin),\n",
        "    epochs=20, batch_size=32,\n",
        "    callbacks=[early_stopping, lr_scheduler]\n",
        ")"
      ],
      "metadata": {
        "colab": {
          "base_uri": "https://localhost:8080/"
        },
        "id": "B9U6w97RXn-8",
        "outputId": "42973a82-c8d0-4a9b-d83a-ea691ff2c3cb"
      },
      "execution_count": null,
      "outputs": [
        {
          "output_type": "stream",
          "name": "stdout",
          "text": [
            "Epoch 1/20\n"
          ]
        },
        {
          "output_type": "stream",
          "name": "stderr",
          "text": [
            "/usr/local/lib/python3.10/dist-packages/keras/src/layers/core/embedding.py:90: UserWarning: Argument `input_length` is deprecated. Just remove it.\n",
            "  warnings.warn(\n"
          ]
        },
        {
          "output_type": "stream",
          "name": "stdout",
          "text": [
            "\u001b[1m96/96\u001b[0m \u001b[32m━━━━━━━━━━━━━━━━━━━━\u001b[0m\u001b[37m\u001b[0m \u001b[1m20s\u001b[0m 147ms/step - accuracy: 0.6941 - loss: 1.8788 - val_accuracy: 0.8715 - val_loss: 0.6357 - learning_rate: 0.0010\n",
            "Epoch 2/20\n",
            "\u001b[1m96/96\u001b[0m \u001b[32m━━━━━━━━━━━━━━━━━━━━\u001b[0m\u001b[37m\u001b[0m \u001b[1m25s\u001b[0m 197ms/step - accuracy: 0.8886 - loss: 0.5095 - val_accuracy: 0.8998 - val_loss: 0.3639 - learning_rate: 0.0010\n",
            "Epoch 3/20\n",
            "\u001b[1m96/96\u001b[0m \u001b[32m━━━━━━━━━━━━━━━━━━━━\u001b[0m\u001b[37m\u001b[0m \u001b[1m14s\u001b[0m 146ms/step - accuracy: 0.9441 - loss: 0.2504 - val_accuracy: 0.8929 - val_loss: 0.3377 - learning_rate: 0.0010\n",
            "Epoch 4/20\n",
            "\u001b[1m96/96\u001b[0m \u001b[32m━━━━━━━━━━━━━━━━━━━━\u001b[0m\u001b[37m\u001b[0m \u001b[1m10s\u001b[0m 106ms/step - accuracy: 0.9614 - loss: 0.1971 - val_accuracy: 0.9028 - val_loss: 0.3490 - learning_rate: 0.0010\n",
            "Epoch 5/20\n",
            "\u001b[1m96/96\u001b[0m \u001b[32m━━━━━━━━━━━━━━━━━━━━\u001b[0m\u001b[37m\u001b[0m \u001b[1m11s\u001b[0m 117ms/step - accuracy: 0.9718 - loss: 0.1625 - val_accuracy: 0.8906 - val_loss: 0.3773 - learning_rate: 0.0010\n",
            "Epoch 6/20\n",
            "\u001b[1m96/96\u001b[0m \u001b[32m━━━━━━━━━━━━━━━━━━━━\u001b[0m\u001b[37m\u001b[0m \u001b[1m20s\u001b[0m 116ms/step - accuracy: 0.9835 - loss: 0.1217 - val_accuracy: 0.8799 - val_loss: 0.3702 - learning_rate: 5.0000e-04\n"
          ]
        }
      ]
    },
    {
      "cell_type": "code",
      "source": [
        "# Evaluasi model\n",
        "y_pred_prob = model.predict(X_test)\n",
        "y_pred = (y_pred_prob > 0.5).astype(int)\n",
        "\n",
        "# Konversi prediksi ke format label string\n",
        "predicted_labels = ['positif' if pred == 1 else 'negatif' for pred in y_pred]\n",
        "accuracy = accuracy_score(y_test, predicted_labels)\n",
        "\n",
        "print(f\"LSTM Accuracy: {accuracy * 100:.2f}%\")"
      ],
      "metadata": {
        "colab": {
          "base_uri": "https://localhost:8080/"
        },
        "id": "_xhQ7noEXHL2",
        "outputId": "4c9b555e-b716-42ec-9536-a1f29930219d"
      },
      "execution_count": null,
      "outputs": [
        {
          "output_type": "stream",
          "name": "stdout",
          "text": [
            "\u001b[1m41/41\u001b[0m \u001b[32m━━━━━━━━━━━━━━━━━━━━\u001b[0m\u001b[37m\u001b[0m \u001b[1m2s\u001b[0m 31ms/step\n",
            "LSTM Accuracy: 89.29%\n"
          ]
        }
      ]
    },
    {
      "cell_type": "code",
      "source": [
        "# Visualisasi hasil\n",
        "import matplotlib.pyplot as plt\n",
        "\n",
        "# Plot loss dan akurasi selama pelatihan\n",
        "plt.figure(figsize=(12, 6))\n",
        "\n",
        "# Plot loss\n",
        "plt.subplot(1, 2, 1)\n",
        "plt.plot(history.history['loss'], label='Train Loss')\n",
        "plt.plot(history.history['val_loss'], label='Validation Loss')\n",
        "plt.title('Loss During Training')\n",
        "plt.xlabel('Epochs')\n",
        "plt.ylabel('Loss')\n",
        "plt.legend()\n",
        "\n",
        "# Plot accuracy\n",
        "plt.subplot(1, 2, 2)\n",
        "plt.plot(history.history['accuracy'], label='Train Accuracy')\n",
        "plt.plot(history.history['val_accuracy'], label='Validation Accuracy')\n",
        "plt.title('Accuracy During Training')\n",
        "plt.xlabel('Epochs')\n",
        "plt.ylabel('Accuracy')\n",
        "plt.legend()\n",
        "\n",
        "plt.show()"
      ],
      "metadata": {
        "colab": {
          "base_uri": "https://localhost:8080/",
          "height": 564
        },
        "id": "IndjuvamXJUO",
        "outputId": "47582f60-89df-41af-e6cc-c7d7127d67ca"
      },
      "execution_count": null,
      "outputs": [
        {
          "output_type": "display_data",
          "data": {
            "text/plain": [
              "<Figure size 1200x600 with 2 Axes>"
            ],
            "image/png": "[encoded data removed]"
          },
          "metadata": {}
        }
      ]
    },
    {
      "cell_type": "markdown",
      "source": [
        "#Testing"
      ],
      "metadata": {
        "id": "CCN2TliVmjip"
      }
    },
    {
      "cell_type": "code",
      "source": [
        "# Bandingkan akurasi antara ketiga skema\n",
        "accuracies = {\n",
        "    'SVM': svm_accuracy,\n",
        "    'Random Forest': rf_accuracy,\n",
        "    'LSTM': accuracy\n",
        "}\n",
        "\n",
        "# Pilih model dengan akurasi tertinggi\n",
        "best_model_name = max(accuracies, key=accuracies.get)\n",
        "best_model_accuracy = accuracies[best_model_name]\n",
        "print(f\"Best Model: {best_model_name} with Accuracy: {best_model_accuracy * 100:.2f}%\")"
      ],
      "metadata": {
        "colab": {
          "base_uri": "https://localhost:8080/"
        },
        "id": "cB-TZNvfic4C",
        "outputId": "094ea3ed-e226-4fbe-80e2-de4f8f89b7d0"
      },
      "execution_count": null,
      "outputs": [
        {
          "output_type": "stream",
          "name": "stdout",
          "text": [
            "Best Model: SVM with Accuracy: 90.70%\n"
          ]
        }
      ]
    },
    {
      "cell_type": "code",
      "source": [
        "# Asumsi: Anda sudah memiliki model terbaik yang dipilih sebelumnya\n",
        "if best_model_name == 'SVM':\n",
        "    # Menggunakan model terbaik SVM\n",
        "    final_model = grid_search.best_estimator_\n",
        "    y_pred = final_model.predict(X_test)\n",
        "    y_true = y_test.argmax(axis=1)\n",
        "\n",
        "    # Mengubah label numerik ke string ('positif' atau 'negatif')\n",
        "    y_pred_labels = ['positif' if pred == 1 else 'negatif' for pred in y_pred]\n",
        "    y_true_labels = ['positif' if true == 1 else 'negatif' for true in y_true]\n",
        "\n",
        "    # Tampilkan 10 contoh perbandingan antara label asli dan prediksi\n",
        "    comparison = list(zip(y_true_labels, y_pred_labels))\n",
        "    print(f\"Perbandingan Label Asli dan Prediksi (SVM):\")\n",
        "    for i, (true, pred) in enumerate(comparison[:10]):\n",
        "        print(f\"Contoh {i+1}: Label Asli = {true}, Prediksi = {pred}\")\n",
        "\n",
        "elif best_model_name == 'Random Forest':\n",
        "    # Menggunakan model terbaik Random Forest\n",
        "    final_model = grid_search_rf.best_estimator_\n",
        "    y_pred = final_model.predict(X_test_w2v)\n",
        "    y_true = y_test.argmax(axis=1)\n",
        "\n",
        "    # Mengubah label numerik ke string ('positif' atau 'negatif')\n",
        "    y_pred_labels = ['positif' if pred == 1 else 'negatif' for pred in y_pred]\n",
        "    y_true_labels = ['positif' if true == 1 else 'negatif' for true in y_true]\n",
        "\n",
        "    # Tampilkan 10 contoh perbandingan antara label asli dan prediksi\n",
        "    comparison = list(zip(y_true_labels, y_pred_labels))\n",
        "    print(f\"Perbandingan Label Asli dan Prediksi (Random Forest):\")\n",
        "    for i, (true, pred) in enumerate(comparison[:10]):\n",
        "        print(f\"Contoh {i+1}: Label Asli = {true}, Prediksi = {pred}\")\n",
        "\n",
        "elif best_model_name == 'LSTM':\n",
        "    # Menggunakan model terbaik LSTM\n",
        "    y_pred_prob = model.predict(X_test)\n",
        "    y_pred = (y_pred_prob > 0.5).astype(int)\n",
        "    y_true = y_test_bin\n",
        "\n",
        "    # Mengubah label numerik ke string ('positif' atau 'negatif')\n",
        "    y_pred_labels = ['positif' if pred == 1 else 'negatif' for pred in y_pred]\n",
        "    y_true_labels = ['positif' if true == 1 else 'negatif' for true in y_true]\n",
        "\n",
        "    # Tampilkan 10 contoh perbandingan antara label asli dan prediksi\n",
        "    comparison = list(zip(y_true_labels, y_pred_labels))\n",
        "    print(f\"Perbandingan Label Asli dan Prediksi (LSTM):\")\n",
        "    for i, (true, pred) in enumerate(comparison[:10]):\n",
        "        print(f\"Contoh {i+1}: Label Asli = {true}, Prediksi = {pred}\")\n"
      ],
      "metadata": {
        "colab": {
          "base_uri": "https://localhost:8080/"
        },
        "id": "nn0fxt6mlKet",
        "outputId": "c4b24d0f-e57d-4667-912a-2ea5e18ee3d6"
      },
      "execution_count": null,
      "outputs": [
        {
          "output_type": "stream",
          "name": "stdout",
          "text": [
            "Perbandingan Label Asli dan Prediksi (SVM):\n",
            "Contoh 1: Label Asli = positif, Prediksi = positif\n",
            "Contoh 2: Label Asli = negatif, Prediksi = negatif\n",
            "Contoh 3: Label Asli = positif, Prediksi = negatif\n",
            "Contoh 4: Label Asli = negatif, Prediksi = negatif\n",
            "Contoh 5: Label Asli = positif, Prediksi = positif\n",
            "Contoh 6: Label Asli = positif, Prediksi = positif\n",
            "Contoh 7: Label Asli = positif, Prediksi = positif\n",
            "Contoh 8: Label Asli = positif, Prediksi = positif\n",
            "Contoh 9: Label Asli = positif, Prediksi = positif\n",
            "Contoh 10: Label Asli = positif, Prediksi = positif\n"
          ]
        }
      ]
    }
  ]
}